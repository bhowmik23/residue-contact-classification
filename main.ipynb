{
  "nbformat": 4,
  "nbformat_minor": 0,
  "metadata": {
    "colab": {
      "provenance": [],
      "gpuType": "T4",
      "toc_visible": true
    },
    "kernelspec": {
      "name": "python3",
      "display_name": "Python 3"
    },
    "language_info": {
      "name": "python"
    },
    "accelerator": "GPU"
  },
  "cells": [
    {
      "cell_type": "markdown",
      "source": [
        "# Protein Residue–Residue Contact Prediction and Classification"
      ],
      "metadata": {
        "id": "lEBvPf5bO0R7"
      }
    },
    {
      "cell_type": "markdown",
      "source": [
        "## Setup"
      ],
      "metadata": {
        "id": "HfGjS5QePB6F"
      }
    },
    {
      "cell_type": "code",
      "source": [
        "from typing import SupportsAbs\n",
        "from google.colab import drive\n",
        "import json\n",
        "import sys\n",
        "import torch\n",
        "\n",
        "drive.mount('/content/drive')\n",
        "\n",
        "# Directories\n",
        "PROJECT_DIR = \"/content/drive/MyDrive/rcp\"\n",
        "SRC_DIR = f\"{PROJECT_DIR}/src\"\n",
        "DATA_DIR = f\"{PROJECT_DIR}/data\"\n",
        "MODEL_DIR = f\"{PROJECT_DIR}/model\"\n",
        "SUPPLEMENTARY_DIR = f\"{PROJECT_DIR}/supplementary\"\n",
        "\n",
        "# Files\n",
        "DATA_FILE = f\"{DATA_DIR}/data.csv\"\n",
        "with open(f\"{MODEL_DIR}/config.json\") as f:\n",
        "    CONFIG_FILE = json.load(f)\n",
        "\n",
        "# Add src directory to Python path\n",
        "sys.path.append(SRC_DIR)\n",
        "\n",
        "# Choose device\n",
        "device = torch.device(\"cuda\") if torch.cuda.is_available() else torch.device(\"cpu\")\n",
        "print(f\"Device: {device}\")"
      ],
      "metadata": {
        "id": "u77xIvEsP3lp",
        "colab": {
          "base_uri": "https://localhost:8080/"
        },
        "outputId": "f699c64d-99a8-4d97-98d9-eac371ddff28"
      },
      "execution_count": 1,
      "outputs": [
        {
          "output_type": "stream",
          "name": "stdout",
          "text": [
            "Mounted at /content/drive\n",
            "Device: cuda\n"
          ]
        }
      ]
    },
    {
      "cell_type": "code",
      "source": [
        "# --- Parameters ---\n",
        "# Preprocessing\n",
        "N_CLASSES = CONFIG_FILE[\"n_classes\"]\n",
        "LABELS_MAP = CONFIG_FILE[\"labels_map\"]\n",
        "SPLIT = CONFIG_FILE[\"split\"]\n",
        "SAMPLING_STRATEGY = {int(k): CONFIG_FILE[\"sampling_strategy\"][k] for k in CONFIG_FILE[\"sampling_strategy\"]}\n",
        "FEATURES = CONFIG_FILE[\"features\"]"
      ],
      "metadata": {
        "id": "upQKrov0J219"
      },
      "execution_count": 3,
      "outputs": []
    },
    {
      "cell_type": "markdown",
      "source": [
        "### Libraries"
      ],
      "metadata": {
        "id": "mL6CclhmPDOn"
      }
    },
    {
      "cell_type": "code",
      "source": [
        "!pip install py-ubjson"
      ],
      "metadata": {
        "id": "2E8G8DpPbFzA",
        "colab": {
          "base_uri": "https://localhost:8080/"
        },
        "outputId": "116127c2-8a7e-4214-e9a6-b62c0d5b8fb1"
      },
      "execution_count": 2,
      "outputs": [
        {
          "output_type": "stream",
          "name": "stdout",
          "text": [
            "Collecting py-ubjson\n",
            "  Downloading py-ubjson-0.16.1.tar.gz (50 kB)\n",
            "\u001b[?25l     \u001b[90m━━━━━━━━━━━━━━━━━━━━━━━━━━━━━━━━━━━━━━━━\u001b[0m \u001b[32m0.0/50.3 kB\u001b[0m \u001b[31m?\u001b[0m eta \u001b[36m-:--:--\u001b[0m\r\u001b[2K     \u001b[90m━━━━━━━━━━━━━━━━━━━━━━━━━━━━━━━━━━━━━━━━\u001b[0m \u001b[32m50.3/50.3 kB\u001b[0m \u001b[31m2.1 MB/s\u001b[0m eta \u001b[36m0:00:00\u001b[0m\n",
            "\u001b[?25h  Preparing metadata (setup.py) ... \u001b[?25l\u001b[?25hdone\n",
            "Building wheels for collected packages: py-ubjson\n",
            "  Building wheel for py-ubjson (setup.py) ... \u001b[?25l\u001b[?25hdone\n",
            "  Created wheel for py-ubjson: filename=py_ubjson-0.16.1-cp311-cp311-linux_x86_64.whl size=128159 sha256=8a319124f2fd229bb899ca1c6ad0f66c598d4933e33d32ad52d02cc4e344a601\n",
            "  Stored in directory: /root/.cache/pip/wheels/ea/6d/84/2e549e1b2579fafeab6aa931f7ea74c6a72793ae4ecdea38db\n",
            "Successfully built py-ubjson\n",
            "Installing collected packages: py-ubjson\n",
            "Successfully installed py-ubjson-0.16.1\n"
          ]
        }
      ]
    },
    {
      "cell_type": "code",
      "source": [
        "# Python\n",
        "import matplotlib.pyplot as plt\n",
        "import numpy as np\n",
        "import pandas as pd\n",
        "import seaborn as sns\n",
        "import ubjson\n",
        "import xgboost as xgb\n",
        "\n",
        "from collections import Counter\n",
        "from imblearn.over_sampling import RandomOverSampler\n",
        "from imblearn.under_sampling import RandomUnderSampler\n",
        "from sklearn.metrics import average_precision_score, balanced_accuracy_score, confusion_matrix, matthews_corrcoef, roc_auc_score\n",
        "from sklearn.model_selection import train_test_split"
      ],
      "metadata": {
        "id": "nlFgOhTwPK1z"
      },
      "execution_count": 4,
      "outputs": []
    },
    {
      "cell_type": "code",
      "source": [
        "# Custom\n",
        "import utils"
      ],
      "metadata": {
        "id": "y0j5-lQiI6ZO"
      },
      "execution_count": 5,
      "outputs": []
    },
    {
      "cell_type": "markdown",
      "source": [
        "## Data"
      ],
      "metadata": {
        "id": "42V0rX8sPRxe"
      }
    },
    {
      "cell_type": "markdown",
      "source": [
        "### Preprocess Data"
      ],
      "metadata": {
        "id": "TB8aBNI8PNzv"
      }
    },
    {
      "cell_type": "markdown",
      "source": [
        "#### Import"
      ],
      "metadata": {
        "id": "8uZOr94UPLsg"
      }
    },
    {
      "cell_type": "code",
      "source": [
        "df = pd.read_csv(DATA_FILE)\n",
        "df.head()"
      ],
      "metadata": {
        "id": "bHJiXcCtPW_4",
        "colab": {
          "base_uri": "https://localhost:8080/",
          "height": 255
        },
        "outputId": "a9bd1c86-f59f-4782-d35e-4d7cbc1fac71"
      },
      "execution_count": 7,
      "outputs": [
        {
          "output_type": "execute_result",
          "data": {
            "text/plain": [
              "  pdb_id s_ch  s_resi s_ins s_resn s_ss8  s_rsa  s_phi  s_psi   s_a1  ...  \\\n",
              "0   1aba    A      23            L     H  0.226 -1.127 -0.746 -1.019  ...   \n",
              "1   1aba    A      23            L     H  0.226 -1.127 -0.746 -1.019  ...   \n",
              "2   1aba    A      15            G     H  0.369 -0.973 -0.856 -0.384  ...   \n",
              "3   1aba    A      67            Q     E  0.076 -2.214  2.152  0.931  ...   \n",
              "4   1aba    A      17            C     H  0.000 -1.093 -0.837 -1.343  ...   \n",
              "\n",
              "   t_phi  t_psi   t_a1   t_a2   t_a3   t_a4   t_a5  t_3di_state t_3di_letter  \\\n",
              "0 -1.429  0.072  1.831 -0.561  0.533 -0.277  1.648         17.0            R   \n",
              "1 -1.429  0.072  1.831 -0.561  0.533 -0.277  1.648         17.0            R   \n",
              "2 -1.079 -0.687  0.945  0.828  1.299 -0.169  0.933          9.0            J   \n",
              "3 -1.350  2.242  0.336 -0.417 -1.673 -1.474 -0.078         16.0            Q   \n",
              "4 -1.058 -0.827 -0.591 -1.302 -0.733  1.570 -0.146         13.0            N   \n",
              "\n",
              "  Interaction  \n",
              "0       HBOND  \n",
              "1         VDW  \n",
              "2       HBOND  \n",
              "3       HBOND  \n",
              "4         VDW  \n",
              "\n",
              "[5 rows x 32 columns]"
            ],
            "text/html": [
              "\n",
              "  <div id=\"df-49b56cdf-e4b4-4fd1-878f-979a3a1e6a15\" class=\"colab-df-container\">\n",
              "    <div>\n",
              "<style scoped>\n",
              "    .dataframe tbody tr th:only-of-type {\n",
              "        vertical-align: middle;\n",
              "    }\n",
              "\n",
              "    .dataframe tbody tr th {\n",
              "        vertical-align: top;\n",
              "    }\n",
              "\n",
              "    .dataframe thead th {\n",
              "        text-align: right;\n",
              "    }\n",
              "</style>\n",
              "<table border=\"1\" class=\"dataframe\">\n",
              "  <thead>\n",
              "    <tr style=\"text-align: right;\">\n",
              "      <th></th>\n",
              "      <th>pdb_id</th>\n",
              "      <th>s_ch</th>\n",
              "      <th>s_resi</th>\n",
              "      <th>s_ins</th>\n",
              "      <th>s_resn</th>\n",
              "      <th>s_ss8</th>\n",
              "      <th>s_rsa</th>\n",
              "      <th>s_phi</th>\n",
              "      <th>s_psi</th>\n",
              "      <th>s_a1</th>\n",
              "      <th>...</th>\n",
              "      <th>t_phi</th>\n",
              "      <th>t_psi</th>\n",
              "      <th>t_a1</th>\n",
              "      <th>t_a2</th>\n",
              "      <th>t_a3</th>\n",
              "      <th>t_a4</th>\n",
              "      <th>t_a5</th>\n",
              "      <th>t_3di_state</th>\n",
              "      <th>t_3di_letter</th>\n",
              "      <th>Interaction</th>\n",
              "    </tr>\n",
              "  </thead>\n",
              "  <tbody>\n",
              "    <tr>\n",
              "      <th>0</th>\n",
              "      <td>1aba</td>\n",
              "      <td>A</td>\n",
              "      <td>23</td>\n",
              "      <td></td>\n",
              "      <td>L</td>\n",
              "      <td>H</td>\n",
              "      <td>0.226</td>\n",
              "      <td>-1.127</td>\n",
              "      <td>-0.746</td>\n",
              "      <td>-1.019</td>\n",
              "      <td>...</td>\n",
              "      <td>-1.429</td>\n",
              "      <td>0.072</td>\n",
              "      <td>1.831</td>\n",
              "      <td>-0.561</td>\n",
              "      <td>0.533</td>\n",
              "      <td>-0.277</td>\n",
              "      <td>1.648</td>\n",
              "      <td>17.0</td>\n",
              "      <td>R</td>\n",
              "      <td>HBOND</td>\n",
              "    </tr>\n",
              "    <tr>\n",
              "      <th>1</th>\n",
              "      <td>1aba</td>\n",
              "      <td>A</td>\n",
              "      <td>23</td>\n",
              "      <td></td>\n",
              "      <td>L</td>\n",
              "      <td>H</td>\n",
              "      <td>0.226</td>\n",
              "      <td>-1.127</td>\n",
              "      <td>-0.746</td>\n",
              "      <td>-1.019</td>\n",
              "      <td>...</td>\n",
              "      <td>-1.429</td>\n",
              "      <td>0.072</td>\n",
              "      <td>1.831</td>\n",
              "      <td>-0.561</td>\n",
              "      <td>0.533</td>\n",
              "      <td>-0.277</td>\n",
              "      <td>1.648</td>\n",
              "      <td>17.0</td>\n",
              "      <td>R</td>\n",
              "      <td>VDW</td>\n",
              "    </tr>\n",
              "    <tr>\n",
              "      <th>2</th>\n",
              "      <td>1aba</td>\n",
              "      <td>A</td>\n",
              "      <td>15</td>\n",
              "      <td></td>\n",
              "      <td>G</td>\n",
              "      <td>H</td>\n",
              "      <td>0.369</td>\n",
              "      <td>-0.973</td>\n",
              "      <td>-0.856</td>\n",
              "      <td>-0.384</td>\n",
              "      <td>...</td>\n",
              "      <td>-1.079</td>\n",
              "      <td>-0.687</td>\n",
              "      <td>0.945</td>\n",
              "      <td>0.828</td>\n",
              "      <td>1.299</td>\n",
              "      <td>-0.169</td>\n",
              "      <td>0.933</td>\n",
              "      <td>9.0</td>\n",
              "      <td>J</td>\n",
              "      <td>HBOND</td>\n",
              "    </tr>\n",
              "    <tr>\n",
              "      <th>3</th>\n",
              "      <td>1aba</td>\n",
              "      <td>A</td>\n",
              "      <td>67</td>\n",
              "      <td></td>\n",
              "      <td>Q</td>\n",
              "      <td>E</td>\n",
              "      <td>0.076</td>\n",
              "      <td>-2.214</td>\n",
              "      <td>2.152</td>\n",
              "      <td>0.931</td>\n",
              "      <td>...</td>\n",
              "      <td>-1.350</td>\n",
              "      <td>2.242</td>\n",
              "      <td>0.336</td>\n",
              "      <td>-0.417</td>\n",
              "      <td>-1.673</td>\n",
              "      <td>-1.474</td>\n",
              "      <td>-0.078</td>\n",
              "      <td>16.0</td>\n",
              "      <td>Q</td>\n",
              "      <td>HBOND</td>\n",
              "    </tr>\n",
              "    <tr>\n",
              "      <th>4</th>\n",
              "      <td>1aba</td>\n",
              "      <td>A</td>\n",
              "      <td>17</td>\n",
              "      <td></td>\n",
              "      <td>C</td>\n",
              "      <td>H</td>\n",
              "      <td>0.000</td>\n",
              "      <td>-1.093</td>\n",
              "      <td>-0.837</td>\n",
              "      <td>-1.343</td>\n",
              "      <td>...</td>\n",
              "      <td>-1.058</td>\n",
              "      <td>-0.827</td>\n",
              "      <td>-0.591</td>\n",
              "      <td>-1.302</td>\n",
              "      <td>-0.733</td>\n",
              "      <td>1.570</td>\n",
              "      <td>-0.146</td>\n",
              "      <td>13.0</td>\n",
              "      <td>N</td>\n",
              "      <td>VDW</td>\n",
              "    </tr>\n",
              "  </tbody>\n",
              "</table>\n",
              "<p>5 rows × 32 columns</p>\n",
              "</div>\n",
              "    <div class=\"colab-df-buttons\">\n",
              "\n",
              "  <div class=\"colab-df-container\">\n",
              "    <button class=\"colab-df-convert\" onclick=\"convertToInteractive('df-49b56cdf-e4b4-4fd1-878f-979a3a1e6a15')\"\n",
              "            title=\"Convert this dataframe to an interactive table.\"\n",
              "            style=\"display:none;\">\n",
              "\n",
              "  <svg xmlns=\"http://www.w3.org/2000/svg\" height=\"24px\" viewBox=\"0 -960 960 960\">\n",
              "    <path d=\"M120-120v-720h720v720H120Zm60-500h600v-160H180v160Zm220 220h160v-160H400v160Zm0 220h160v-160H400v160ZM180-400h160v-160H180v160Zm440 0h160v-160H620v160ZM180-180h160v-160H180v160Zm440 0h160v-160H620v160Z\"/>\n",
              "  </svg>\n",
              "    </button>\n",
              "\n",
              "  <style>\n",
              "    .colab-df-container {\n",
              "      display:flex;\n",
              "      gap: 12px;\n",
              "    }\n",
              "\n",
              "    .colab-df-convert {\n",
              "      background-color: #E8F0FE;\n",
              "      border: none;\n",
              "      border-radius: 50%;\n",
              "      cursor: pointer;\n",
              "      display: none;\n",
              "      fill: #1967D2;\n",
              "      height: 32px;\n",
              "      padding: 0 0 0 0;\n",
              "      width: 32px;\n",
              "    }\n",
              "\n",
              "    .colab-df-convert:hover {\n",
              "      background-color: #E2EBFA;\n",
              "      box-shadow: 0px 1px 2px rgba(60, 64, 67, 0.3), 0px 1px 3px 1px rgba(60, 64, 67, 0.15);\n",
              "      fill: #174EA6;\n",
              "    }\n",
              "\n",
              "    .colab-df-buttons div {\n",
              "      margin-bottom: 4px;\n",
              "    }\n",
              "\n",
              "    [theme=dark] .colab-df-convert {\n",
              "      background-color: #3B4455;\n",
              "      fill: #D2E3FC;\n",
              "    }\n",
              "\n",
              "    [theme=dark] .colab-df-convert:hover {\n",
              "      background-color: #434B5C;\n",
              "      box-shadow: 0px 1px 3px 1px rgba(0, 0, 0, 0.15);\n",
              "      filter: drop-shadow(0px 1px 2px rgba(0, 0, 0, 0.3));\n",
              "      fill: #FFFFFF;\n",
              "    }\n",
              "  </style>\n",
              "\n",
              "    <script>\n",
              "      const buttonEl =\n",
              "        document.querySelector('#df-49b56cdf-e4b4-4fd1-878f-979a3a1e6a15 button.colab-df-convert');\n",
              "      buttonEl.style.display =\n",
              "        google.colab.kernel.accessAllowed ? 'block' : 'none';\n",
              "\n",
              "      async function convertToInteractive(key) {\n",
              "        const element = document.querySelector('#df-49b56cdf-e4b4-4fd1-878f-979a3a1e6a15');\n",
              "        const dataTable =\n",
              "          await google.colab.kernel.invokeFunction('convertToInteractive',\n",
              "                                                    [key], {});\n",
              "        if (!dataTable) return;\n",
              "\n",
              "        const docLinkHtml = 'Like what you see? Visit the ' +\n",
              "          '<a target=\"_blank\" href=https://colab.research.google.com/notebooks/data_table.ipynb>data table notebook</a>'\n",
              "          + ' to learn more about interactive tables.';\n",
              "        element.innerHTML = '';\n",
              "        dataTable['output_type'] = 'display_data';\n",
              "        await google.colab.output.renderOutput(dataTable, element);\n",
              "        const docLink = document.createElement('div');\n",
              "        docLink.innerHTML = docLinkHtml;\n",
              "        element.appendChild(docLink);\n",
              "      }\n",
              "    </script>\n",
              "  </div>\n",
              "\n",
              "\n",
              "    <div id=\"df-7a02cd74-ecb5-4c85-9b87-976b7a0c3a71\">\n",
              "      <button class=\"colab-df-quickchart\" onclick=\"quickchart('df-7a02cd74-ecb5-4c85-9b87-976b7a0c3a71')\"\n",
              "                title=\"Suggest charts\"\n",
              "                style=\"display:none;\">\n",
              "\n",
              "<svg xmlns=\"http://www.w3.org/2000/svg\" height=\"24px\"viewBox=\"0 0 24 24\"\n",
              "     width=\"24px\">\n",
              "    <g>\n",
              "        <path d=\"M19 3H5c-1.1 0-2 .9-2 2v14c0 1.1.9 2 2 2h14c1.1 0 2-.9 2-2V5c0-1.1-.9-2-2-2zM9 17H7v-7h2v7zm4 0h-2V7h2v10zm4 0h-2v-4h2v4z\"/>\n",
              "    </g>\n",
              "</svg>\n",
              "      </button>\n",
              "\n",
              "<style>\n",
              "  .colab-df-quickchart {\n",
              "      --bg-color: #E8F0FE;\n",
              "      --fill-color: #1967D2;\n",
              "      --hover-bg-color: #E2EBFA;\n",
              "      --hover-fill-color: #174EA6;\n",
              "      --disabled-fill-color: #AAA;\n",
              "      --disabled-bg-color: #DDD;\n",
              "  }\n",
              "\n",
              "  [theme=dark] .colab-df-quickchart {\n",
              "      --bg-color: #3B4455;\n",
              "      --fill-color: #D2E3FC;\n",
              "      --hover-bg-color: #434B5C;\n",
              "      --hover-fill-color: #FFFFFF;\n",
              "      --disabled-bg-color: #3B4455;\n",
              "      --disabled-fill-color: #666;\n",
              "  }\n",
              "\n",
              "  .colab-df-quickchart {\n",
              "    background-color: var(--bg-color);\n",
              "    border: none;\n",
              "    border-radius: 50%;\n",
              "    cursor: pointer;\n",
              "    display: none;\n",
              "    fill: var(--fill-color);\n",
              "    height: 32px;\n",
              "    padding: 0;\n",
              "    width: 32px;\n",
              "  }\n",
              "\n",
              "  .colab-df-quickchart:hover {\n",
              "    background-color: var(--hover-bg-color);\n",
              "    box-shadow: 0 1px 2px rgba(60, 64, 67, 0.3), 0 1px 3px 1px rgba(60, 64, 67, 0.15);\n",
              "    fill: var(--button-hover-fill-color);\n",
              "  }\n",
              "\n",
              "  .colab-df-quickchart-complete:disabled,\n",
              "  .colab-df-quickchart-complete:disabled:hover {\n",
              "    background-color: var(--disabled-bg-color);\n",
              "    fill: var(--disabled-fill-color);\n",
              "    box-shadow: none;\n",
              "  }\n",
              "\n",
              "  .colab-df-spinner {\n",
              "    border: 2px solid var(--fill-color);\n",
              "    border-color: transparent;\n",
              "    border-bottom-color: var(--fill-color);\n",
              "    animation:\n",
              "      spin 1s steps(1) infinite;\n",
              "  }\n",
              "\n",
              "  @keyframes spin {\n",
              "    0% {\n",
              "      border-color: transparent;\n",
              "      border-bottom-color: var(--fill-color);\n",
              "      border-left-color: var(--fill-color);\n",
              "    }\n",
              "    20% {\n",
              "      border-color: transparent;\n",
              "      border-left-color: var(--fill-color);\n",
              "      border-top-color: var(--fill-color);\n",
              "    }\n",
              "    30% {\n",
              "      border-color: transparent;\n",
              "      border-left-color: var(--fill-color);\n",
              "      border-top-color: var(--fill-color);\n",
              "      border-right-color: var(--fill-color);\n",
              "    }\n",
              "    40% {\n",
              "      border-color: transparent;\n",
              "      border-right-color: var(--fill-color);\n",
              "      border-top-color: var(--fill-color);\n",
              "    }\n",
              "    60% {\n",
              "      border-color: transparent;\n",
              "      border-right-color: var(--fill-color);\n",
              "    }\n",
              "    80% {\n",
              "      border-color: transparent;\n",
              "      border-right-color: var(--fill-color);\n",
              "      border-bottom-color: var(--fill-color);\n",
              "    }\n",
              "    90% {\n",
              "      border-color: transparent;\n",
              "      border-bottom-color: var(--fill-color);\n",
              "    }\n",
              "  }\n",
              "</style>\n",
              "\n",
              "      <script>\n",
              "        async function quickchart(key) {\n",
              "          const quickchartButtonEl =\n",
              "            document.querySelector('#' + key + ' button');\n",
              "          quickchartButtonEl.disabled = true;  // To prevent multiple clicks.\n",
              "          quickchartButtonEl.classList.add('colab-df-spinner');\n",
              "          try {\n",
              "            const charts = await google.colab.kernel.invokeFunction(\n",
              "                'suggestCharts', [key], {});\n",
              "          } catch (error) {\n",
              "            console.error('Error during call to suggestCharts:', error);\n",
              "          }\n",
              "          quickchartButtonEl.classList.remove('colab-df-spinner');\n",
              "          quickchartButtonEl.classList.add('colab-df-quickchart-complete');\n",
              "        }\n",
              "        (() => {\n",
              "          let quickchartButtonEl =\n",
              "            document.querySelector('#df-7a02cd74-ecb5-4c85-9b87-976b7a0c3a71 button');\n",
              "          quickchartButtonEl.style.display =\n",
              "            google.colab.kernel.accessAllowed ? 'block' : 'none';\n",
              "        })();\n",
              "      </script>\n",
              "    </div>\n",
              "\n",
              "    </div>\n",
              "  </div>\n"
            ],
            "application/vnd.google.colaboratory.intrinsic+json": {
              "type": "dataframe",
              "variable_name": "df"
            }
          },
          "metadata": {},
          "execution_count": 7
        }
      ]
    },
    {
      "cell_type": "code",
      "source": [
        "class_counts = df['Interaction'].value_counts()\n",
        "print(\"--- Class counts (no NA's) ---\")\n",
        "print(class_counts)"
      ],
      "metadata": {
        "id": "DqaE5-Lvm7Ar",
        "colab": {
          "base_uri": "https://localhost:8080/"
        },
        "outputId": "53865814-ea44-4533-c6e9-b954d3e15ae5"
      },
      "execution_count": 8,
      "outputs": [
        {
          "output_type": "stream",
          "name": "stdout",
          "text": [
            "--- Class counts (no NA's) ---\n",
            "Interaction\n",
            "Unclassified    1061992\n",
            "HBOND           1027525\n",
            "VDW              716942\n",
            "PIPISTACK         37344\n",
            "IONIC             34306\n",
            "PICATION           8576\n",
            "SSBOND             2018\n",
            "PIHBOND            1724\n",
            "Name: count, dtype: int64\n"
          ]
        }
      ]
    },
    {
      "cell_type": "markdown",
      "source": [
        "#### Features"
      ],
      "metadata": {
        "id": "aJscUt-RXmrN"
      }
    },
    {
      "cell_type": "code",
      "source": [
        "# Extract features\n",
        "label_column = 'Interaction'\n",
        "id_columns = ['pdb_id', 's_ch', 's_resi', 's_ins', 's_resn', 't_ch', 't_resi', 't_ins', 't_resn']\n",
        "categorical_columns = ['s_ss8', 't_ss8', 's_3di_letter', 't_3di_letter']\n",
        "numerical_columns = [col for col in df.columns if col not in id_columns + categorical_columns + [label_column]]\n",
        "\n",
        "X = df.drop(columns=id_columns)"
      ],
      "metadata": {
        "id": "jzktGulPYPLJ"
      },
      "execution_count": 9,
      "outputs": []
    },
    {
      "cell_type": "code",
      "source": [
        "# Visualize feature distribution\n",
        "for feature in numerical_columns:\n",
        "    plt.figure(figsize=(8, 3))\n",
        "    sns.histplot(data=X, x=feature, hue='Interaction', kde=True, element='step', stat='density', common_norm=False)\n",
        "    plt.title(f\"Distribution of {feature} by Interaction Type\")\n",
        "    plt.show()"
      ],
      "metadata": {
        "id": "7uyqtsj1KDYK"
      },
      "execution_count": null,
      "outputs": []
    },
    {
      "cell_type": "code",
      "source": [
        "# Remove label\n",
        "X = X.drop(columns=[label_column])"
      ],
      "metadata": {
        "id": "i6p8yCcPsKf6"
      },
      "execution_count": 11,
      "outputs": []
    },
    {
      "cell_type": "markdown",
      "source": [
        "#### Labels"
      ],
      "metadata": {
        "id": "0KEb_gT1Xo8z"
      }
    },
    {
      "cell_type": "code",
      "source": [
        "y = df[label_column].map(LABELS_MAP).fillna(df[label_column])\n",
        "y = np.array(y)"
      ],
      "metadata": {
        "id": "Zbov0BG0FjSk"
      },
      "execution_count": 12,
      "outputs": []
    },
    {
      "cell_type": "markdown",
      "source": [
        "#### Train-test split"
      ],
      "metadata": {
        "id": "mzTdVca3g_Ns"
      }
    },
    {
      "cell_type": "code",
      "source": [
        "# Split data\n",
        "X_train_val, X_test, y_train_val, y_test = train_test_split(X, y, stratify=y, test_size=SPLIT['test'], random_state=42)\n",
        "X_train, X_val, y_train, y_val = train_test_split(X_train_val, y_train_val, stratify=y_train_val, test_size=SPLIT['validation'], random_state=42)"
      ],
      "metadata": {
        "id": "pqFsrnUowsLL"
      },
      "execution_count": 13,
      "outputs": []
    },
    {
      "cell_type": "markdown",
      "source": [
        "#### Resampling"
      ],
      "metadata": {
        "id": "GWJVrSVYi1-R"
      }
    },
    {
      "cell_type": "code",
      "source": [
        "class_counts_train = pd.Series(y_train).value_counts()\n",
        "print(\"--- Class counts in training set ---\")\n",
        "print(class_counts_train)\n",
        "print(\"\\n\")\n",
        "print(\"--- Sampling strategy ---\")\n",
        "print(SAMPLING_STRATEGY)"
      ],
      "metadata": {
        "id": "SV9gSpIVjjr6",
        "colab": {
          "base_uri": "https://localhost:8080/"
        },
        "outputId": "059fb114-6668-4ac2-c263-dad237003173"
      },
      "execution_count": 14,
      "outputs": [
        {
          "output_type": "stream",
          "name": "stdout",
          "text": [
            "--- Class counts in training set ---\n",
            "0    764634\n",
            "1    739818\n",
            "2    516198\n",
            "3     26888\n",
            "4     24700\n",
            "5      6174\n",
            "6      1453\n",
            "7      1242\n",
            "Name: count, dtype: int64\n",
            "\n",
            "\n",
            "--- Sampling strategy ---\n",
            "{0: 100000, 1: 100000, 2: 100000, 3: 30000, 4: 30000, 5: 30000, 6: 30000, 7: 30000}\n"
          ]
        }
      ]
    },
    {
      "cell_type": "code",
      "source": [
        "# Undersampling\n",
        "undersample_strategy = {\n",
        "    cls: target for cls, target in SAMPLING_STRATEGY.items()\n",
        "    if target < class_counts_train[cls]\n",
        "}\n",
        "\n",
        "rus = RandomUnderSampler(sampling_strategy=undersample_strategy, random_state=42)\n",
        "X_under, y_under = rus.fit_resample(X_train, y_train)"
      ],
      "metadata": {
        "id": "eVQmZZne3iDh"
      },
      "execution_count": 15,
      "outputs": []
    },
    {
      "cell_type": "code",
      "source": [
        "# Oversampling\n",
        "current_counts = Counter(y_under)\n",
        "oversample_strategy = {\n",
        "    cls: target for cls, target in SAMPLING_STRATEGY.items()\n",
        "    if target > current_counts[cls]\n",
        "}\n",
        "\n",
        "ros = RandomOverSampler(sampling_strategy=oversample_strategy, random_state=42)\n",
        "X_train_resampled, y_train_resampled = ros.fit_resample(X_under, y_under)"
      ],
      "metadata": {
        "id": "l18IY49F3Ln6"
      },
      "execution_count": 16,
      "outputs": []
    },
    {
      "cell_type": "code",
      "source": [
        "print(\"--- Class counts after resampling ---\")\n",
        "class_counts_resampled = pd.Series(y_train_resampled).value_counts()\n",
        "print(class_counts_resampled)"
      ],
      "metadata": {
        "id": "dLTIohjEljkx",
        "colab": {
          "base_uri": "https://localhost:8080/"
        },
        "outputId": "85b7f3d8-13ca-4b26-ec69-b3b04acc5710"
      },
      "execution_count": 17,
      "outputs": [
        {
          "output_type": "stream",
          "name": "stdout",
          "text": [
            "--- Class counts after resampling ---\n",
            "0    100000\n",
            "1    100000\n",
            "2    100000\n",
            "3     30000\n",
            "4     30000\n",
            "5     30000\n",
            "6     30000\n",
            "7     30000\n",
            "Name: count, dtype: int64\n"
          ]
        }
      ]
    },
    {
      "cell_type": "code",
      "source": [
        "# --- Save datasets ---\n",
        "# Resampled train set\n",
        "X_train_resampled.to_parquet(f\"{DATA_DIR}/train-resampled/X_train_resampled.parquet\", compression='snappy')\n",
        "np.save(f\"{DATA_DIR}/train-resampled/y_train_resampled.npy\", y_train_resampled)\n",
        "\n",
        "# Validation\n",
        "X_val.to_parquet(f\"{DATA_DIR}/val/X_val.parquet\", compression='snappy')\n",
        "np.save(f\"{DATA_DIR}/val/y_val.npy\", y_val)\n",
        "\n",
        "# Test\n",
        "X_test.to_parquet(f\"{DATA_DIR}/test/X_test.parquet\", compression='snappy')\n",
        "np.save(f\"{DATA_DIR}/test/y_test.npy\", y_test)"
      ],
      "metadata": {
        "id": "u-EXqQvymZzC"
      },
      "execution_count": 24,
      "outputs": []
    },
    {
      "cell_type": "markdown",
      "source": [
        "## Model: XGBoost"
      ],
      "metadata": {
        "id": "j3RWQQXQPVs-"
      }
    },
    {
      "cell_type": "markdown",
      "source": [
        "### Data"
      ],
      "metadata": {
        "id": "J-m1p_s4dw-g"
      }
    },
    {
      "cell_type": "code",
      "source": [
        "# --- Load data ---\n",
        "# Train\n",
        "X_train_resampled = pd.read_parquet(f\"{DATA_DIR}/train-resampled/X_train_resampled.parquet\")\n",
        "y_train_resampled = np.load(f\"{DATA_DIR}/train-resampled/y_train_resampled.npy\")\n",
        "\n",
        "# Validation\n",
        "X_val = pd.read_parquet(f\"{DATA_DIR}/val/X_val.parquet\")\n",
        "y_val = np.load(f\"{DATA_DIR}/val/y_val.npy\")\n",
        "\n",
        "# Test\n",
        "X_test = pd.read_parquet(f\"{DATA_DIR}/test/X_test.parquet\")\n",
        "y_test = np.load(f\"{DATA_DIR}/test/y_test.npy\")"
      ],
      "metadata": {
        "id": "-i2yo0XncaW7"
      },
      "execution_count": 28,
      "outputs": []
    },
    {
      "cell_type": "code",
      "source": [
        "# Encode to categorical\n",
        "categorical_columns = ['s_ss8', 't_ss8', 's_3di_letter', 't_3di_letter']\n",
        "\n",
        "for col in categorical_columns:\n",
        "    X_train_resampled[col] = X_train_resampled[col].astype('category')\n",
        "    X_test[col] = X_test[col].astype('category')\n",
        "    X_val[col] = X_val[col].astype('category')"
      ],
      "metadata": {
        "id": "k9uF7x90brCn"
      },
      "execution_count": 18,
      "outputs": []
    },
    {
      "cell_type": "code",
      "source": [
        "# Use numerical and cateogrical features\n",
        "train_data = xgb.DMatrix(X_train_resampled, label=y_train_resampled, enable_categorical=True)\n",
        "test_data = xgb.DMatrix(X_test, label=y_test, enable_categorical=True)\n",
        "val_data = xgb.DMatrix(X_val, label=y_val, enable_categorical=True)"
      ],
      "metadata": {
        "id": "NpEeKkidRW7e"
      },
      "execution_count": 19,
      "outputs": []
    },
    {
      "cell_type": "markdown",
      "source": [
        "### Parameters"
      ],
      "metadata": {
        "id": "LuZsxPulPa63"
      }
    },
    {
      "cell_type": "code",
      "source": [
        "with open(f\"{SUPPLEMENTARY_DIR}/xgboost/config.json\") as f:\n",
        "    xgboost_config = json.load(f)"
      ],
      "metadata": {
        "id": "SzykL1WAiDll"
      },
      "execution_count": 20,
      "outputs": []
    },
    {
      "cell_type": "code",
      "source": [
        "model_name = xgboost_config['model_name']\n",
        "xgboost_params = xgboost_config['model_parameters']\n",
        "es = xgboost_config['early_stopping']\n",
        "verb = xgboost_config['verbose']"
      ],
      "metadata": {
        "id": "JIw1knkKhFHx"
      },
      "execution_count": 21,
      "outputs": []
    },
    {
      "cell_type": "markdown",
      "source": [
        "### Training"
      ],
      "metadata": {
        "id": "N-h7DlV6PdCH"
      }
    },
    {
      "cell_type": "code",
      "source": [
        "print(f\"--- Training model {model_name} ---\")\n",
        "xgboost_model = xgb.train(xgboost_params,\n",
        "                  train_data,\n",
        "                  num_boost_round=2000,\n",
        "                  evals=[(train_data, 'train'),(val_data, 'val')],\n",
        "                  early_stopping_rounds=es,\n",
        "                  verbose_eval=verb,\n",
        "                  evals_result={})"
      ],
      "metadata": {
        "id": "u0lqhhIePegO",
        "colab": {
          "base_uri": "https://localhost:8080/"
        },
        "outputId": "a65c0058-8122-4502-aa1e-b363caec0261"
      },
      "execution_count": 22,
      "outputs": [
        {
          "output_type": "stream",
          "name": "stdout",
          "text": [
            "--- Training model xgboost ---\n",
            "[0]\ttrain-mlogloss:1.79177\tval-mlogloss:1.90150\n",
            "[50]\ttrain-mlogloss:0.75222\tval-mlogloss:1.14841\n",
            "[100]\ttrain-mlogloss:0.62489\tval-mlogloss:1.13638\n",
            "[121]\ttrain-mlogloss:0.58549\tval-mlogloss:1.13650\n"
          ]
        }
      ]
    },
    {
      "cell_type": "code",
      "source": [
        "# Save model\n",
        "filename_xgboost_model = f\"{SUPPLEMENTARY_DIR}/xgboost/{model_name}.ubj\"\n",
        "xgboost_model.save_model(filename_xgboost_model)"
      ],
      "metadata": {
        "id": "1rrwmGqj6973"
      },
      "execution_count": 60,
      "outputs": []
    },
    {
      "cell_type": "markdown",
      "source": [
        "### Evaluation"
      ],
      "metadata": {
        "id": "_84HO0ymPhMv"
      }
    },
    {
      "cell_type": "code",
      "source": [
        "# Load empty results file\n",
        "with open(f\"{SUPPLEMENTARY_DIR}/xgboost/results_init.json\") as f:\n",
        "    xgboost_results = json.load(f)"
      ],
      "metadata": {
        "id": "nz2nJ7eamtvp"
      },
      "execution_count": 23,
      "outputs": []
    },
    {
      "cell_type": "code",
      "source": [
        "# Predict test data\n",
        "y_pred_prob = xgboost_model.predict(test_data)\n",
        "y_pred_labs = np.argmax(y_pred_prob, axis=1)"
      ],
      "metadata": {
        "id": "P4bpXHG4Piqw"
      },
      "execution_count": 24,
      "outputs": []
    },
    {
      "cell_type": "code",
      "source": [
        "# Calculate accuracy scores\n",
        "xgboost_results['results']['Balanced Accuracy'] = balanced_accuracy_score(y_test, y_pred_labs, adjusted=True)\n",
        "xgboost_results['results']['AUC-ROC'] = roc_auc_score(y_test, y_pred_prob, average='macro', multi_class='ovo')\n",
        "xgboost_results['results']['Matthews Correlation Coefficient'] = matthews_corrcoef(y_test, y_pred_labs)\n",
        "xgboost_results['results']['Average Precision Score'] = average_precision_score(y_test, y_pred_prob, average='macro')"
      ],
      "metadata": {
        "id": "hzXx-TrFjDXg"
      },
      "execution_count": 25,
      "outputs": []
    },
    {
      "cell_type": "code",
      "source": [
        "# Print results\n",
        "print(f\"--- Results for model {xgboost_results['model_name']}---\")\n",
        "for metric, value in xgboost_results['results'].items():\n",
        "    print(f'{metric}: {value:.3f}')"
      ],
      "metadata": {
        "colab": {
          "base_uri": "https://localhost:8080/"
        },
        "id": "_48NxD5fkkhR",
        "outputId": "5f94ddb9-5de4-45d6-d035-06112850ac0e"
      },
      "execution_count": 26,
      "outputs": [
        {
          "output_type": "stream",
          "name": "stdout",
          "text": [
            "--- Results for model xgboost---\n",
            "Balanced Accuracy: 0.605\n",
            "AUC-ROC: 0.919\n",
            "Matthews Correlation Coefficient: 0.219\n",
            "Average Precision Score: 0.336\n"
          ]
        }
      ]
    },
    {
      "cell_type": "code",
      "source": [
        "# Confusion matrix\n",
        "xgboost_cm = confusion_matrix(y_test, y_pred_labs)\n",
        "sorted_labels = sorted(LABELS_MAP.keys(), key=lambda x: LABELS_MAP[x])\n",
        "xgboost_cm_df = pd.DataFrame(xgboost_cm, index=sorted_labels, columns=sorted_labels)\n",
        "xgboost_results['confusion_matrix'] = xgboost_cm_df"
      ],
      "metadata": {
        "id": "ddTGXdFgk68t"
      },
      "execution_count": 29,
      "outputs": []
    },
    {
      "cell_type": "code",
      "source": [
        "utils.plot_confusion_matrix(xgboost_cm, xgboost_cm_df.columns, model_name=model_name)"
      ],
      "metadata": {
        "colab": {
          "base_uri": "https://localhost:8080/",
          "height": 707
        },
        "id": "s2IzvfwEQXcH",
        "outputId": "54c8c4c9-fa0f-4823-ced4-fa14ec9a9f99"
      },
      "execution_count": 30,
      "outputs": [
        {
          "output_type": "display_data",
          "data": {
            "text/plain": [
              "<Figure size 1000x700 with 2 Axes>"
            ],
            "image/png": "[encoded data removed]"
          },
          "metadata": {}
        }
      ]
    },
    {
      "cell_type": "code",
      "source": [
        "# Save results\n",
        "filename_xgboost_results = f\"{SUPPLEMENTARY_DIR}/{model_name}/results.json\"\n",
        "xgboost_results['confusion_matrix'] = xgboost_results['confusion_matrix'].to_dict(orient='records')\n",
        "with open(filename_xgboost_results, 'w') as file:\n",
        "    json.dump(xgboost_results, file, indent=4)"
      ],
      "metadata": {
        "id": "aQa7F4vaaMlY"
      },
      "execution_count": 72,
      "outputs": []
    },
    {
      "cell_type": "markdown",
      "source": [
        "## Model: XGBoost OvR Ensemble"
      ],
      "metadata": {
        "id": "0rf8CUxlsObU"
      }
    },
    {
      "cell_type": "markdown",
      "source": [
        "### Data"
      ],
      "metadata": {
        "id": "apYv9Wh2sSGT"
      }
    },
    {
      "cell_type": "code",
      "source": [
        "# --- Load data ---\n",
        "# Train\n",
        "X_train_resampled = pd.read_parquet(f\"{DATA_DIR}/train-resampled/X_train_resampled.parquet\")\n",
        "y_train_resampled = np.load(f\"{DATA_DIR}/train-resampled/y_train_resampled.npy\")\n",
        "\n",
        "# Validation\n",
        "X_val = pd.read_parquet(f\"{DATA_DIR}/val/X_val.parquet\")\n",
        "y_val = np.load(f\"{DATA_DIR}/val/y_val.npy\")\n",
        "\n",
        "# Test\n",
        "X_test = pd.read_parquet(f\"{DATA_DIR}/test/X_test.parquet\")\n",
        "y_test = np.load(f\"{DATA_DIR}/test/y_test.npy\")"
      ],
      "metadata": {
        "id": "wNvsi_bgsZAy"
      },
      "execution_count": 31,
      "outputs": []
    },
    {
      "cell_type": "code",
      "source": [
        "# Encode to categorical\n",
        "categorical_columns = ['s_ss8', 't_ss8', 's_3di_letter', 't_3di_letter']\n",
        "\n",
        "for col in categorical_columns:\n",
        "    X_train_resampled[col] = X_train_resampled[col].astype('category')\n",
        "    X_test[col] = X_test[col].astype('category')\n",
        "    X_val[col] = X_val[col].astype('category')"
      ],
      "metadata": {
        "id": "DIDYg0MBsdSY"
      },
      "execution_count": 32,
      "outputs": []
    },
    {
      "cell_type": "markdown",
      "source": [
        "### Parameters"
      ],
      "metadata": {
        "id": "PhYWK_d2sTSI"
      }
    },
    {
      "cell_type": "code",
      "source": [
        "# Model-specific\n",
        "MODEL_NAME = CONFIG_FILE[\"model_name\"]\n",
        "MODEL_PARAMETERS = CONFIG_FILE[\"model_parameters\"]\n",
        "EARLY_STOPPING = CONFIG_FILE[\"early_stopping\"]\n",
        "VERBOSE = CONFIG_FILE[\"verbose\"]"
      ],
      "metadata": {
        "id": "OCeitpnWn-Z1"
      },
      "execution_count": 33,
      "outputs": []
    },
    {
      "cell_type": "markdown",
      "source": [
        "### Training"
      ],
      "metadata": {
        "id": "6RtP25hHsVsp"
      }
    },
    {
      "cell_type": "code",
      "source": [
        "# Train\n",
        "xgboost_ovr_models = utils.train_ovr_ensemble(MODEL_NAME, X_train_resampled, y_train_resampled, X_val, y_val, MODEL_PARAMETERS)"
      ],
      "metadata": {
        "colab": {
          "base_uri": "https://localhost:8080/"
        },
        "id": "m0TgD8FZsZxi",
        "outputId": "c02f77d1-d6bd-495f-c126-a1edecc0a8a0"
      },
      "execution_count": 34,
      "outputs": [
        {
          "output_type": "stream",
          "name": "stdout",
          "text": [
            "--- Training model xgboost-ovr-ensemble for class 0 ---\n",
            "[0]\ttrain-logloss:0.50206\tval-logloss:0.66979\n",
            "[50]\ttrain-logloss:0.34511\tval-logloss:0.61275\n",
            "[88]\ttrain-logloss:0.30536\tval-logloss:0.61199\n",
            "--- Training model xgboost-ovr-ensemble for class 1 ---\n",
            "[0]\ttrain-logloss:0.50630\tval-logloss:0.66259\n",
            "[50]\ttrain-logloss:0.37271\tval-logloss:0.62255\n",
            "[69]\ttrain-logloss:0.35236\tval-logloss:0.62265\n",
            "--- Training model xgboost-ovr-ensemble for class 2 ---\n",
            "[0]\ttrain-logloss:0.51481\tval-logloss:0.56071\n",
            "[15]\ttrain-logloss:0.45257\tval-logloss:0.58142\n",
            "--- Training model xgboost-ovr-ensemble for class 3 ---\n",
            "[0]\ttrain-logloss:0.20918\tval-logloss:0.14943\n",
            "[39]\ttrain-logloss:0.04266\tval-logloss:0.03505\n",
            "--- Training model xgboost-ovr-ensemble for class 4 ---\n",
            "[0]\ttrain-logloss:0.21597\tval-logloss:0.15516\n",
            "[48]\ttrain-logloss:0.05870\tval-logloss:0.06006\n",
            "--- Training model xgboost-ovr-ensemble for class 5 ---\n",
            "[0]\ttrain-logloss:0.20862\tval-logloss:0.13944\n",
            "[50]\ttrain-logloss:0.03559\tval-logloss:0.02821\n",
            "[100]\ttrain-logloss:0.01821\tval-logloss:0.02454\n",
            "[150]\ttrain-logloss:0.01284\tval-logloss:0.02411\n",
            "[154]\ttrain-logloss:0.01261\tval-logloss:0.02414\n",
            "--- Training model xgboost-ovr-ensemble for class 6 ---\n",
            "[0]\ttrain-logloss:0.18417\tval-logloss:0.13170\n",
            "[50]\ttrain-logloss:0.00174\tval-logloss:0.00429\n",
            "[51]\ttrain-logloss:0.00173\tval-logloss:0.00429\n",
            "--- Training model xgboost-ovr-ensemble for class 7 ---\n",
            "[0]\ttrain-logloss:0.22106\tval-logloss:0.13825\n",
            "[50]\ttrain-logloss:0.02463\tval-logloss:0.01109\n",
            "[100]\ttrain-logloss:0.01119\tval-logloss:0.00607\n",
            "[149]\ttrain-logloss:0.00934\tval-logloss:0.00573\n"
          ]
        }
      ]
    },
    {
      "cell_type": "code",
      "source": [
        "# Save ensemble models\n",
        "ENSEMBLE_DIR = f\"{MODEL_DIR}/trained-ensemble\"\n",
        "utils.save_ovr_models(xgboost_ovr_models, MODEL_NAME, ENSEMBLE_DIR)"
      ],
      "metadata": {
        "colab": {
          "base_uri": "https://localhost:8080/"
        },
        "id": "49KBclUhyP3_",
        "outputId": "d98d9e4a-1387-4b2a-9abe-61e651395c61"
      },
      "execution_count": 31,
      "outputs": [
        {
          "output_type": "stream",
          "name": "stdout",
          "text": [
            "Saved model for class 0 → /content/drive/MyDrive/rcp/model/trained-ensemble/xgboost-ovr-ensemble_class_0.ubj\n",
            "Saved model for class 1 → /content/drive/MyDrive/rcp/model/trained-ensemble/xgboost-ovr-ensemble_class_1.ubj\n",
            "Saved model for class 2 → /content/drive/MyDrive/rcp/model/trained-ensemble/xgboost-ovr-ensemble_class_2.ubj\n",
            "Saved model for class 3 → /content/drive/MyDrive/rcp/model/trained-ensemble/xgboost-ovr-ensemble_class_3.ubj\n",
            "Saved model for class 4 → /content/drive/MyDrive/rcp/model/trained-ensemble/xgboost-ovr-ensemble_class_4.ubj\n",
            "Saved model for class 5 → /content/drive/MyDrive/rcp/model/trained-ensemble/xgboost-ovr-ensemble_class_5.ubj\n",
            "Saved model for class 6 → /content/drive/MyDrive/rcp/model/trained-ensemble/xgboost-ovr-ensemble_class_6.ubj\n",
            "Saved model for class 7 → /content/drive/MyDrive/rcp/model/trained-ensemble/xgboost-ovr-ensemble_class_7.ubj\n"
          ]
        }
      ]
    },
    {
      "cell_type": "markdown",
      "source": [
        "### Evaluation"
      ],
      "metadata": {
        "id": "9djlV9-9sXTP"
      }
    },
    {
      "cell_type": "code",
      "source": [
        "# Load empty results file\n",
        "with open(f\"{MODEL_DIR}/results_init.json\") as f:\n",
        "    xgboost_ovr_results = json.load(f)"
      ],
      "metadata": {
        "id": "79WzqntipKvA"
      },
      "execution_count": 35,
      "outputs": []
    },
    {
      "cell_type": "code",
      "source": [
        "# Load model\n",
        "ENSEMBLE_DIR = f\"{MODEL_DIR}/trained-ensemble\"\n",
        "xgboost_ovr_models = utils.load_ovr_models(MODEL_NAME, ENSEMBLE_DIR, MODEL_PARAMETERS)"
      ],
      "metadata": {
        "id": "uqRXjKBJsRNI"
      },
      "execution_count": 38,
      "outputs": []
    },
    {
      "cell_type": "code",
      "source": [
        "# Predict test data\n",
        "y_pred_labs, y_pred_prob = utils.predict_ovr(xgboost_ovr_models, X_test)\n",
        "y_pred_prob_norm = y_pred_prob / y_pred_prob.sum(axis=1, keepdims=True)"
      ],
      "metadata": {
        "id": "wHnPkTsOyr7a"
      },
      "execution_count": 39,
      "outputs": []
    },
    {
      "cell_type": "code",
      "source": [
        "xgboost_ovr_results['results']['Balanced Accuracy'] = balanced_accuracy_score(y_test, y_pred_labs, adjusted=True)\n",
        "xgboost_ovr_results['results']['AUC-ROC'] = roc_auc_score(y_test, y_pred_prob_norm, average='macro', multi_class='ovo')\n",
        "xgboost_ovr_results['results']['Matthews Correlation Coefficient'] = matthews_corrcoef(y_test, y_pred_labs)\n",
        "xgboost_ovr_results['results']['Average Precision Score'] = average_precision_score(y_test, y_pred_prob_norm, average='macro')"
      ],
      "metadata": {
        "id": "N96xcjA2swR_"
      },
      "execution_count": 40,
      "outputs": []
    },
    {
      "cell_type": "code",
      "source": [
        "# Print results\n",
        "print(f\"--- Results for model {xgboost_ovr_results['model_name']}---\")\n",
        "for metric, value in xgboost_ovr_results['results'].items():\n",
        "    print(f'{metric}: {value:.3f}')"
      ],
      "metadata": {
        "colab": {
          "base_uri": "https://localhost:8080/"
        },
        "id": "UtV5gQAEs0p5",
        "outputId": "be5b97c6-b35c-4bc1-c7aa-b394fe5c5f6e"
      },
      "execution_count": 41,
      "outputs": [
        {
          "output_type": "stream",
          "name": "stdout",
          "text": [
            "--- Results for model xgboost-ovr-ensemble---\n",
            "Balanced Accuracy: 0.622\n",
            "AUC-ROC: 0.923\n",
            "Matthews Correlation Coefficient: 0.231\n",
            "Average Precision Score: 0.355\n"
          ]
        }
      ]
    },
    {
      "cell_type": "code",
      "source": [
        "# Confusion matrix\n",
        "xgboost_ovr_cm = confusion_matrix(y_test, y_pred_labs)\n",
        "sorted_labels = sorted(LABELS_MAP.keys(), key=lambda x: LABELS_MAP[x])\n",
        "xgboost_ovr_cm_df = pd.DataFrame(xgboost_ovr_cm, index=sorted_labels, columns=sorted_labels)\n",
        "xgboost_ovr_results['confusion_matrix'] = xgboost_ovr_cm_df"
      ],
      "metadata": {
        "id": "8vFdXnU2s24p"
      },
      "execution_count": 42,
      "outputs": []
    },
    {
      "cell_type": "code",
      "source": [
        "utils.plot_confusion_matrix(xgboost_ovr_cm, xgboost_ovr_cm_df.columns, MODEL_NAME)"
      ],
      "metadata": {
        "colab": {
          "base_uri": "https://localhost:8080/",
          "height": 707
        },
        "id": "jn662MO9s5XY",
        "outputId": "eeeecee7-98c9-49d4-8dea-2f5b0df78acc"
      },
      "execution_count": 43,
      "outputs": [
        {
          "output_type": "display_data",
          "data": {
            "text/plain": [
              "<Figure size 1000x700 with 2 Axes>"
            ],
            "image/png": "[encoded data removed]"
          },
          "metadata": {}
        }
      ]
    },
    {
      "cell_type": "code",
      "source": [
        "# Save model results\n",
        "filename_xgboost_ovr_results = f\"{MODEL_DIR}/results.json\"\n",
        "xgboost_ovr_results['confusion_matrix'] = xgboost_ovr_results['confusion_matrix'].to_dict(orient='records')\n",
        "with open(filename_xgboost_ovr_results, 'w') as file:\n",
        "    json.dump(xgboost_ovr_results, file, indent=4)"
      ],
      "metadata": {
        "id": "YYa3UMVs1vlk"
      },
      "execution_count": 42,
      "outputs": []
    }
  ]
}